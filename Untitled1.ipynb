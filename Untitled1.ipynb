{
 "cells": [
  {
   "cell_type": "code",
   "execution_count": 3,
   "metadata": {},
   "outputs": [
    {
     "name": "stdout",
     "output_type": "stream",
     "text": [
      "clean_wav_list 120098\n"
     ]
    }
   ],
   "source": [
    "import os\n",
    "clean_wav_list = []\n",
    "data_dir = \"/Users/wudamu/Desktop/Pytorch学习\"\n",
    "clean_wav_scp = os.path.join(data_dir, 'wav.scp')\n",
    "with open(clean_wav_scp, 'r', encoding='utf-8') as fid:\n",
    "    for line in fid:\n",
    "        line = line.strip().replace('\\n','')\n",
    "        uttid, wav_path = line.split()\n",
    "        clean_wav_list.append((uttid, wav_path)) \n",
    "    print('clean_wav_list', len(clean_wav_list))"
   ]
  },
  {
   "cell_type": "code",
   "execution_count": null,
   "metadata": {},
   "outputs": [],
   "source": []
  }
 ],
 "metadata": {
  "kernelspec": {
   "display_name": "Python 3",
   "language": "python",
   "name": "python3"
  },
  "language_info": {
   "codemirror_mode": {
    "name": "ipython",
    "version": 3
   },
   "file_extension": ".py",
   "mimetype": "text/x-python",
   "name": "python",
   "nbconvert_exporter": "python",
   "pygments_lexer": "ipython3",
   "version": "3.8.3"
  }
 },
 "nbformat": 4,
 "nbformat_minor": 4
}
